{
  "cells": [
    {
      "cell_type": "code",
      "execution_count": null,
      "metadata": {
        "colab": {
          "base_uri": "https://localhost:8080/"
        },
        "id": "6Jdza0qVmaVa",
        "outputId": "b766da39-e567-42a8-b340-73e2a6ee150d"
      },
      "outputs": [
        {
          "output_type": "stream",
          "name": "stdout",
          "text": [
            "Requirement already satisfied: keras-tuner in /usr/local/lib/python3.10/dist-packages (1.4.6)\n",
            "Requirement already satisfied: keras in /usr/local/lib/python3.10/dist-packages (from keras-tuner) (2.14.0)\n",
            "Requirement already satisfied: packaging in /usr/local/lib/python3.10/dist-packages (from keras-tuner) (23.2)\n",
            "Requirement already satisfied: requests in /usr/local/lib/python3.10/dist-packages (from keras-tuner) (2.31.0)\n",
            "Requirement already satisfied: kt-legacy in /usr/local/lib/python3.10/dist-packages (from keras-tuner) (1.0.5)\n",
            "Requirement already satisfied: charset-normalizer<4,>=2 in /usr/local/lib/python3.10/dist-packages (from requests->keras-tuner) (3.3.2)\n",
            "Requirement already satisfied: idna<4,>=2.5 in /usr/local/lib/python3.10/dist-packages (from requests->keras-tuner) (3.4)\n",
            "Requirement already satisfied: urllib3<3,>=1.21.1 in /usr/local/lib/python3.10/dist-packages (from requests->keras-tuner) (2.0.7)\n",
            "Requirement already satisfied: certifi>=2017.4.17 in /usr/local/lib/python3.10/dist-packages (from requests->keras-tuner) (2023.7.22)\n"
          ]
        }
      ],
      "source": [
        "pip install keras-tuner"
      ]
    },
    {
      "cell_type": "code",
      "execution_count": null,
      "metadata": {
        "id": "VGafTl20HRNU"
      },
      "outputs": [],
      "source": []
    },
    {
      "cell_type": "code",
      "execution_count": null,
      "metadata": {
        "colab": {
          "base_uri": "https://localhost:8080/"
        },
        "id": "4cJ4Fr0OQkLr",
        "outputId": "06a274e3-602e-45ae-a14d-708c64900f25"
      },
      "outputs": [
        {
          "output_type": "stream",
          "name": "stdout",
          "text": [
            "Trial 4 Complete [00h 15m 26s]\n",
            "val_accuracy: 0.5224568843841553\n",
            "\n",
            "Best val_accuracy So Far: 0.5330628156661987\n",
            "Total elapsed time: 01h 02m 12s\n",
            "Epoch 1/5\n",
            "1017/1017 [==============================] - 212s 207ms/step - loss: 2.1976 - accuracy: 0.3627 - val_loss: 1.9181 - val_accuracy: 0.4541\n",
            "Epoch 2/5\n",
            "1017/1017 [==============================] - 208s 205ms/step - loss: 1.7756 - accuracy: 0.4928 - val_loss: 1.7255 - val_accuracy: 0.5070\n",
            "Epoch 3/5\n",
            "1017/1017 [==============================] - 211s 207ms/step - loss: 1.5854 - accuracy: 0.5436 - val_loss: 1.6627 - val_accuracy: 0.5200\n",
            "Epoch 4/5\n",
            "1017/1017 [==============================] - 208s 204ms/step - loss: 1.4687 - accuracy: 0.5746 - val_loss: 1.6867 - val_accuracy: 0.5209\n",
            "Epoch 5/5\n",
            "1017/1017 [==============================] - 207s 204ms/step - loss: 1.3688 - accuracy: 0.5998 - val_loss: 1.6199 - val_accuracy: 0.5308\n",
            "339/339 [==============================] - 9s 27ms/step\n",
            "              precision    recall  f1-score   support\n",
            "\n",
            "           0       0.29      0.13      0.18       266\n",
            "           1       0.50      0.02      0.04        97\n",
            "           2       0.35      0.08      0.13       144\n",
            "           3       0.00      0.00      0.00       118\n",
            "           4       0.00      0.00      0.00        64\n",
            "           5       0.44      0.60      0.51      1495\n",
            "           6       0.00      0.00      0.00       107\n",
            "           7       0.67      0.82      0.74      2607\n",
            "           8       0.56      0.68      0.61      2790\n",
            "           9       0.00      0.00      0.00       147\n",
            "          10       0.00      0.00      0.00        67\n",
            "          11       0.37      0.28      0.31        40\n",
            "          12       0.00      0.00      0.00        51\n",
            "          13       0.50      0.60      0.55       403\n",
            "          14       0.37      0.45      0.41       140\n",
            "          15       0.00      0.00      0.00        52\n",
            "          16       0.00      0.00      0.00        53\n",
            "          17       0.00      0.00      0.00        25\n",
            "          18       0.16      0.18      0.17       176\n",
            "          19       0.00      0.00      0.00       139\n",
            "          20       0.27      0.21      0.23       139\n",
            "          21       0.32      0.26      0.29      1011\n",
            "          22       0.47      0.16      0.24        97\n",
            "          23       0.00      0.00      0.00        85\n",
            "          24       0.30      0.09      0.14       326\n",
            "          25       0.00      0.00      0.00        24\n",
            "          26       0.80      0.61      0.69       180\n",
            "\n",
            "    accuracy                           0.53     10843\n",
            "   macro avg       0.24      0.19      0.19     10843\n",
            "weighted avg       0.47      0.53      0.49     10843\n",
            "\n",
            "Accuracy: 0.5310338467213871\n"
          ]
        },
        {
          "output_type": "stream",
          "name": "stderr",
          "text": [
            "/usr/local/lib/python3.10/dist-packages/sklearn/metrics/_classification.py:1344: UndefinedMetricWarning: Precision and F-score are ill-defined and being set to 0.0 in labels with no predicted samples. Use `zero_division` parameter to control this behavior.\n",
            "  _warn_prf(average, modifier, msg_start, len(result))\n",
            "/usr/local/lib/python3.10/dist-packages/sklearn/metrics/_classification.py:1344: UndefinedMetricWarning: Precision and F-score are ill-defined and being set to 0.0 in labels with no predicted samples. Use `zero_division` parameter to control this behavior.\n",
            "  _warn_prf(average, modifier, msg_start, len(result))\n",
            "/usr/local/lib/python3.10/dist-packages/sklearn/metrics/_classification.py:1344: UndefinedMetricWarning: Precision and F-score are ill-defined and being set to 0.0 in labels with no predicted samples. Use `zero_division` parameter to control this behavior.\n",
            "  _warn_prf(average, modifier, msg_start, len(result))\n"
          ]
        }
      ],
      "source": [
        "# Import necessary libraries\n",
        "import pandas as pd\n",
        "from sklearn.model_selection import train_test_split\n",
        "from sklearn.preprocessing import LabelEncoder\n",
        "from tensorflow.keras.preprocessing.text import Tokenizer\n",
        "from tensorflow.keras.preprocessing.sequence import pad_sequences\n",
        "import zipfile\n",
        "import os\n",
        "import numpy as np\n",
        "from tensorflow.keras.models import Sequential\n",
        "from tensorflow.keras.layers import Embedding, LSTM, Dense\n",
        "from tensorflow.keras.optimizers import Adam\n",
        "import kerastuner as kt\n",
        "from sklearn.metrics import classification_report, accuracy_score\n",
        "from tensorflow.keras.callbacks import EarlyStopping\n",
        "\n",
        "train_data_file =  'train_data.txt'\n",
        "\n",
        "# Loading the training data\n",
        "train_data = pd.read_csv(train_data_file, sep=\":::\", header=None, names=[\"ID\", \"Title\", \"Genre\", \"Description\"], engine='python')\n",
        "\n",
        "# Preprocessing\n",
        "train_data['cleaned_description'] = train_data['Description'].str.lower().str.replace(\"[^a-z0-9 ]\", \"\", regex=True)\n",
        "label_encoder = LabelEncoder()\n",
        "train_data['genre_label'] = label_encoder.fit_transform(train_data['Genre'].str.strip())\n",
        "\n",
        "# Tokenization and Padding\n",
        "max_num_words = 5000  # Reduced vocabulary size\n",
        "max_sequence_length = 150  # Reduced sequence length\n",
        "tokenizer = Tokenizer(num_words=max_num_words)\n",
        "tokenizer.fit_on_texts(train_data['cleaned_description'])\n",
        "sequences = tokenizer.texts_to_sequences(train_data['cleaned_description'])\n",
        "padded_sequences = pad_sequences(sequences, maxlen=max_sequence_length)\n",
        "\n",
        "# Splitting the data\n",
        "test_val_size = 0.4\n",
        "test_size = 0.5\n",
        "X_train, X_test_val, y_train, y_test_val = train_test_split(padded_sequences, train_data['genre_label'], test_size=test_val_size, random_state=42)\n",
        "X_val, X_test, y_val, y_test = train_test_split(X_test_val, y_test_val, test_size=test_size, random_state=42)\n",
        "\n",
        "# Building a simpler RNN model\n",
        "vocab_size = len(tokenizer.word_index) + 1\n",
        "embedding_dim = 50  # Reduced embedding dimension\n",
        "lstm_units = 64  # Reduced number of LSTM units\n",
        "\n",
        "def build_model(hp):\n",
        "    model = Sequential()\n",
        "    model.add(Embedding(input_dim=vocab_size, output_dim=embedding_dim, input_length=max_sequence_length))\n",
        "    model.add(LSTM(units=hp.Choice('units', values=[32, 64]), dropout=0.2))\n",
        "    model.add(Dense(len(np.unique(y_train)), activation='softmax'))\n",
        "    model.compile(optimizer=Adam(learning_rate=hp.Choice('learning_rate', values=[1e-2, 1e-3])),\n",
        "                  loss='sparse_categorical_crossentropy',\n",
        "                  metrics=['accuracy'])\n",
        "    return model\n",
        "\n",
        "# Hyperparameter tuning with constraints\n",
        "tuner = kt.RandomSearch(build_model,\n",
        "                        objective='val_accuracy',\n",
        "                        max_trials=10,  # Reduced number of trials\n",
        "                        executions_per_trial=1,\n",
        "                        directory='my_dir',\n",
        "                        project_name='intro_to_kt')\n",
        "\n",
        "tuner.search(X_train, y_train, epochs=5,  # Reduced epochs\n",
        "             validation_data=(X_val, y_val),\n",
        "             callbacks=[EarlyStopping(monitor='val_accuracy', patience=2)])  # Using TensorFlow's EarlyStopping\n",
        "\n",
        "# Retrieve the best model\n",
        "best_hps = tuner.get_best_hyperparameters(num_trials=1)[0]\n",
        "best_model = tuner.hypermodel.build(best_hps)\n",
        "best_model.fit(X_train, y_train, epochs=5, validation_data=(X_val, y_val))  # Reduced epochs\n",
        "\n",
        "# Classification report\n",
        "y_pred_prob = best_model.predict(X_test)\n",
        "y_pred = np.argmax(y_pred_prob, axis=1)\n",
        "print(classification_report(y_test, y_pred))\n",
        "accuracy = accuracy_score(y_test, y_pred)\n",
        "print(f\"Accuracy: {accuracy}\")\n"
      ]
    }
  ],
  "metadata": {
    "colab": {
      "provenance": []
    },
    "kernelspec": {
      "display_name": "Python 3",
      "name": "python3"
    },
    "language_info": {
      "name": "python"
    }
  },
  "nbformat": 4,
  "nbformat_minor": 0
}